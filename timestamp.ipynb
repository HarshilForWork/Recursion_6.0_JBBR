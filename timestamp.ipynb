{
 "cells": [
  {
   "cell_type": "code",
   "execution_count": 2,
   "metadata": {},
   "outputs": [],
   "source": [
    "import pandas as pd\n",
    "df = pd.read_csv('output.csv')\n",
    "df_json = pd.read_json('output.json')"
   ]
  },
  {
   "cell_type": "code",
   "execution_count": 3,
   "metadata": {},
   "outputs": [
    {
     "data": {
      "text/html": [
       "<div>\n",
       "<style scoped>\n",
       "    .dataframe tbody tr th:only-of-type {\n",
       "        vertical-align: middle;\n",
       "    }\n",
       "\n",
       "    .dataframe tbody tr th {\n",
       "        vertical-align: top;\n",
       "    }\n",
       "\n",
       "    .dataframe thead th {\n",
       "        text-align: right;\n",
       "    }\n",
       "</style>\n",
       "<table border=\"1\" class=\"dataframe\">\n",
       "  <thead>\n",
       "    <tr style=\"text-align: right;\">\n",
       "      <th></th>\n",
       "      <th>text</th>\n",
       "      <th>start</th>\n",
       "      <th>duration</th>\n",
       "    </tr>\n",
       "  </thead>\n",
       "  <tbody>\n",
       "    <tr>\n",
       "      <th>0</th>\n",
       "      <td>okay let me guess quesadilla with soy</td>\n",
       "      <td>0.160</td>\n",
       "      <td>3.680</td>\n",
       "    </tr>\n",
       "    <tr>\n",
       "      <th>1</th>\n",
       "      <td>cheese for the lactose intolerant</td>\n",
       "      <td>2.200</td>\n",
       "      <td>3.880</td>\n",
       "    </tr>\n",
       "    <tr>\n",
       "      <th>2</th>\n",
       "      <td>Leonard thank you shrimp Caesar salad</td>\n",
       "      <td>3.840</td>\n",
       "      <td>4.240</td>\n",
       "    </tr>\n",
       "    <tr>\n",
       "      <th>3</th>\n",
       "      <td>with no almonds for the highly allergic</td>\n",
       "      <td>6.080</td>\n",
       "      <td>4.800</td>\n",
       "    </tr>\n",
       "    <tr>\n",
       "      <th>4</th>\n",
       "      <td>kosher only on the high holidays Howard</td>\n",
       "      <td>8.080</td>\n",
       "      <td>4.400</td>\n",
       "    </tr>\n",
       "    <tr>\n",
       "      <th>...</th>\n",
       "      <td>...</td>\n",
       "      <td>...</td>\n",
       "      <td>...</td>\n",
       "    </tr>\n",
       "    <tr>\n",
       "      <th>906</th>\n",
       "      <td>about you so</td>\n",
       "      <td>2566.640</td>\n",
       "      <td>4.560</td>\n",
       "    </tr>\n",
       "    <tr>\n",
       "      <th>907</th>\n",
       "      <td>much hello some of us need to check our</td>\n",
       "      <td>2568.680</td>\n",
       "      <td>4.399</td>\n",
       "    </tr>\n",
       "    <tr>\n",
       "      <th>908</th>\n",
       "      <td>hair because we might have a shot with</td>\n",
       "      <td>2571.200</td>\n",
       "      <td>5.399</td>\n",
       "    </tr>\n",
       "    <tr>\n",
       "      <th>909</th>\n",
       "      <td>Ward's mother</td>\n",
       "      <td>2573.079</td>\n",
       "      <td>3.520</td>\n",
       "    </tr>\n",
       "    <tr>\n",
       "      <th>910</th>\n",
       "      <td>[Music]</td>\n",
       "      <td>2578.010</td>\n",
       "      <td>12.389</td>\n",
       "    </tr>\n",
       "  </tbody>\n",
       "</table>\n",
       "<p>911 rows × 3 columns</p>\n",
       "</div>"
      ],
      "text/plain": [
       "                                        text     start  duration\n",
       "0      okay let me guess quesadilla with soy     0.160     3.680\n",
       "1          cheese for the lactose intolerant     2.200     3.880\n",
       "2      Leonard thank you shrimp Caesar salad     3.840     4.240\n",
       "3    with no almonds for the highly allergic     6.080     4.800\n",
       "4    kosher only on the high holidays Howard     8.080     4.400\n",
       "..                                       ...       ...       ...\n",
       "906                             about you so  2566.640     4.560\n",
       "907  much hello some of us need to check our  2568.680     4.399\n",
       "908   hair because we might have a shot with  2571.200     5.399\n",
       "909                            Ward's mother  2573.079     3.520\n",
       "910                                  [Music]  2578.010    12.389\n",
       "\n",
       "[911 rows x 3 columns]"
      ]
     },
     "execution_count": 3,
     "metadata": {},
     "output_type": "execute_result"
    }
   ],
   "source": [
    "df_json"
   ]
  },
  {
   "cell_type": "code",
   "execution_count": 4,
   "metadata": {},
   "outputs": [
    {
     "data": {
      "text/plain": [
       "{'water': [{'text': 'stayed for the California Venture water',\n",
       "   'start': 845.639,\n",
       "   'duration': 5.12},\n",
       "  {'text': 'bodies they can draw water in through',\n",
       "   'start': 1131.2,\n",
       "   'duration': 4.3}],\n",
       " 'babies': [{'text': 'he said to me that their babies would be',\n",
       "   'start': 2518.68,\n",
       "   'duration': 4.76}],\n",
       " 'story': [{'text': \"story there's a guy I liked and I never\",\n",
       "   'start': 1786.48,\n",
       "   'duration': 4.319}],\n",
       " 'birthday': [{'text': 'birthday party and for another I told',\n",
       "   'start': 672.12,\n",
       "   'duration': 3.6},\n",
       "  {'text': \"birthday today's your birthday yes what\",\n",
       "   'start': 1187.88,\n",
       "   'duration': 7.159},\n",
       "  {'text': 'birthday in a', 'start': 2542.88, 'duration': 6.239}],\n",
       " 'molecular': [{'text': 'symposium on molecular patronum I think',\n",
       "   'start': 587.12,\n",
       "   'duration': 4.64}]}"
      ]
     },
     "execution_count": 4,
     "metadata": {},
     "output_type": "execute_result"
    }
   ],
   "source": [
    "# Get the top 5 words from df based on the 'Value' column\n",
    "top_5_words = df.nlargest(5, 'Value')['Item']\n",
    "\n",
    "# Count occurrences of each word in the 'text' column of df_json\n",
    "word_counts = {word: df_json['text'].str.contains(rf'\\b{word}\\b', case=False).sum() for word in top_5_words}\n",
    "\n",
    "# Display the counts\n",
    "word_counts\n",
    "\n",
    "# Find occurrences of top 5 words in df_json and include timestamp and duration\n",
    "word_occurrences = {}\n",
    "\n",
    "for word in top_5_words:\n",
    "    matches = df_json[df_json['text'].str.contains(word, case=False, na=False)]\n",
    "    word_occurrences[word] = matches[['text', 'start', 'duration']].to_dict('records')\n",
    "\n",
    "# Display the occurrences\n",
    "word_occurrences"
   ]
  },
  {
   "cell_type": "code",
   "execution_count": 5,
   "metadata": {},
   "outputs": [],
   "source": [
    "time_range = 15"
   ]
  },
  {
   "cell_type": "code",
   "execution_count": 6,
   "metadata": {},
   "outputs": [
    {
     "data": {
      "text/plain": [
       "{'water': [{'original_start': 845.639,\n",
       "   'lower_bound': 830.04,\n",
       "   'upper_bound': 861.48},\n",
       "  {'original_start': 1131.2, 'lower_bound': 1114.24, 'upper_bound': 1147.08}],\n",
       " 'babies': [{'original_start': 2518.68,\n",
       "   'lower_bound': 2501.0,\n",
       "   'upper_bound': 2536.319}],\n",
       " 'story': [{'original_start': 1786.48,\n",
       "   'lower_bound': 1769.88,\n",
       "   'upper_bound': 1804.08}],\n",
       " 'birthday': [{'original_start': 672.12,\n",
       "   'lower_bound': 655.279,\n",
       "   'upper_bound': 687.48},\n",
       "  {'original_start': 1187.88, 'lower_bound': 1171.28, 'upper_bound': 1204.36},\n",
       "  {'original_start': 2542.88, 'lower_bound': 2527.76, 'upper_bound': 2558.16}],\n",
       " 'molecular': [{'original_start': 587.12,\n",
       "   'lower_bound': 572.079,\n",
       "   'upper_bound': 603.12}]}"
      ]
     },
     "execution_count": 6,
     "metadata": {},
     "output_type": "execute_result"
    }
   ],
   "source": [
    "from math import floor, ceil\n",
    "\n",
    "# Process each word in word_occurrences\n",
    "adjusted_timestamps = {}\n",
    "\n",
    "for word, occurrences in word_occurrences.items():\n",
    "    adjusted_timestamps[word] = []\n",
    "    for occurrence in occurrences:\n",
    "        start_time = occurrence['start']\n",
    "        lower_bound = start_time - time_range\n",
    "        upper_bound = start_time + time_range\n",
    "\n",
    "        # Find the nearest floor and ceil timestamps in df_json\n",
    "        nearest_floor = df_json[df_json['start'] <= lower_bound]['start'].max() if not df_json[df_json['start'] <= lower_bound].empty else lower_bound\n",
    "        nearest_ceil = df_json[df_json['start'] >= upper_bound]['start'].min() if not df_json[df_json['start'] >= upper_bound].empty else upper_bound\n",
    "\n",
    "        # Append the adjusted timestamps\n",
    "        adjusted_timestamps[word].append({\n",
    "            'original_start': start_time,\n",
    "            'lower_bound': nearest_floor,\n",
    "            'upper_bound': nearest_ceil\n",
    "        })\n",
    "\n",
    "# Display the adjusted timestamps\n",
    "adjusted_timestamps"
   ]
  },
  {
   "cell_type": "code",
   "execution_count": 7,
   "metadata": {},
   "outputs": [],
   "source": [
    "from moviepy.video.io.VideoFileClip import VideoFileClip\n",
    "import os\n",
    "import yt_dlp"
   ]
  },
  {
   "cell_type": "code",
   "execution_count": 8,
   "metadata": {},
   "outputs": [],
   "source": [
    "def download_youtube_video(url, output_dir='.'):\n",
    "    ydl_opts = {\n",
    "        'format': 'best',\n",
    "        'outtmpl': os.path.join(output_dir, 'source_video.%(ext)s')\n",
    "    }\n",
    "    try:\n",
    "        # Download the video using yt_dlp\n",
    "        with yt_dlp.YoutubeDL(ydl_opts) as ydl:\n",
    "            info = ydl.extract_info(url, download=True)\n",
    "            # Get the extension from the downloaded file\n",
    "            ext = info.get('ext', 'mp4')\n",
    "            source_path = os.path.join(output_dir, f'source_video.{ext}')\n",
    "            return source_path\n",
    "    except Exception as e:\n",
    "        print(f\"Error downloading video: {str(e)}\")\n",
    "        import traceback\n",
    "        traceback.print_exc()\n",
    "        return None"
   ]
  },
  {
   "cell_type": "code",
   "execution_count": 9,
   "metadata": {},
   "outputs": [],
   "source": [
    "def create_trimmed_videos(source_path, timestamps_dict, output_dir='.'):\n",
    "    try:\n",
    "        # Load the source video once\n",
    "        video = VideoFileClip(source_path)\n",
    "        \n",
    "        for word, timestamps in timestamps_dict.items():\n",
    "            for i, timestamp in enumerate(timestamps):\n",
    "                start_time = timestamp['lower_bound']\n",
    "                end_time = timestamp['upper_bound']\n",
    "                output_file = os.path.join(output_dir, f\"trimmed_video_{word}_{i + 1}.mp4\")\n",
    "                \n",
    "                # Create subclip\n",
    "                trimmed_video = video.subclipped(start_time, end_time)\n",
    "                trimmed_video.write_videofile(output_file, codec=\"libx264\", audio_codec=\"aac\")\n",
    "                trimmed_video.close()\n",
    "                \n",
    "                print(f\"Created {output_file}\")\n",
    "        \n",
    "        # Close the source video after all subclips are created\n",
    "        video.close()\n",
    "    \n",
    "    except Exception as e:\n",
    "        print(f\"Error creating trimmed videos: {str(e)}\")\n",
    "        import traceback\n",
    "        traceback.print_exc()"
   ]
  },
  {
   "cell_type": "code",
   "execution_count": 10,
   "metadata": {},
   "outputs": [
    {
     "name": "stdout",
     "output_type": "stream",
     "text": [
      "[youtube] Extracting URL: https://www.youtube.com/watch?v=dLuQ1wSJACU\n",
      "[youtube] dLuQ1wSJACU: Downloading webpage\n",
      "[youtube] dLuQ1wSJACU: Downloading tv client config\n",
      "[youtube] dLuQ1wSJACU: Downloading player 69f581a5\n",
      "[youtube] dLuQ1wSJACU: Downloading tv player API JSON\n",
      "[youtube] dLuQ1wSJACU: Downloading ios player API JSON\n",
      "[youtube] dLuQ1wSJACU: Downloading m3u8 information\n",
      "[info] dLuQ1wSJACU: Downloading 1 format(s): 18\n",
      "[download] source_video.mp4 has already been downloaded\n",
      "[download] 100% of  137.92MiB\n",
      "{'video_found': True, 'audio_found': True, 'metadata': {'major_brand': 'mp42', 'minor_version': '0', 'compatible_brands': 'isommp42', 'encoder': 'Google'}, 'inputs': [{'streams': [{'input_number': 0, 'stream_number': 0, 'stream_type': 'video', 'language': None, 'default': True, 'size': [640, 360], 'bitrate': 348, 'fps': 23.976023976023978, 'codec_name': 'h264', 'profile': '(Main)', 'metadata': {'Metadata': '', 'handler_name': 'ISO Media file produced by Google Inc.', 'vendor_id': '[0][0][0][0]'}}, {'input_number': 0, 'stream_number': 1, 'stream_type': 'audio', 'language': 'eng', 'default': True, 'fps': 44100, 'bitrate': 95, 'metadata': {'Metadata': '', 'handler_name': 'ISO Media file produced by Google Inc.', 'vendor_id': '[0][0][0][0]'}}], 'input_number': 0}], 'duration': 2588.82, 'bitrate': 446, 'start': 0.0, 'default_video_input_number': 0, 'default_video_stream_number': 0, 'video_codec_name': 'h264', 'video_profile': '(Main)', 'video_size': [640, 360], 'video_bitrate': 348, 'video_fps': 23.976023976023978, 'default_audio_input_number': 0, 'default_audio_stream_number': 1, 'audio_fps': 44100, 'audio_bitrate': 95, 'video_duration': 2588.82, 'video_n_frames': 62069}\n",
      "C:\\Users\\Akshat\\AppData\\Local\\Packages\\PythonSoftwareFoundation.Python.3.10_qbz5n2kfra8p0\\LocalCache\\local-packages\\Python310\\site-packages\\imageio_ffmpeg\\binaries\\ffmpeg-win-x86_64-v7.1.exe -i .\\source_video.mp4 -loglevel error -f image2pipe -vf scale=640:360 -sws_flags bicubic -pix_fmt rgb24 -vcodec rawvideo -\n",
      "{'video_found': True, 'audio_found': True, 'metadata': {'major_brand': 'mp42', 'minor_version': '0', 'compatible_brands': 'isommp42', 'encoder': 'Google'}, 'inputs': [{'streams': [{'input_number': 0, 'stream_number': 0, 'stream_type': 'video', 'language': None, 'default': True, 'size': [640, 360], 'bitrate': 348, 'fps': 23.976023976023978, 'codec_name': 'h264', 'profile': '(Main)', 'metadata': {'Metadata': '', 'handler_name': 'ISO Media file produced by Google Inc.', 'vendor_id': '[0][0][0][0]'}}, {'input_number': 0, 'stream_number': 1, 'stream_type': 'audio', 'language': 'eng', 'default': True, 'fps': 44100, 'bitrate': 95, 'metadata': {'Metadata': '', 'handler_name': 'ISO Media file produced by Google Inc.', 'vendor_id': '[0][0][0][0]'}}], 'input_number': 0}], 'duration': 2588.82, 'bitrate': 446, 'start': 0.0, 'default_video_input_number': 0, 'default_video_stream_number': 0, 'video_codec_name': 'h264', 'video_profile': '(Main)', 'video_size': [640, 360], 'video_bitrate': 348, 'video_fps': 23.976023976023978, 'default_audio_input_number': 0, 'default_audio_stream_number': 1, 'audio_fps': 44100, 'audio_bitrate': 95, 'video_duration': 2588.82, 'video_n_frames': 62069}\n",
      "C:\\Users\\Akshat\\AppData\\Local\\Packages\\PythonSoftwareFoundation.Python.3.10_qbz5n2kfra8p0\\LocalCache\\local-packages\\Python310\\site-packages\\imageio_ffmpeg\\binaries\\ffmpeg-win-x86_64-v7.1.exe -ss 829.040000 -i .\\source_video.mp4 -ss 1.000000 -loglevel error -f image2pipe -vf scale=640:360 -sws_flags bicubic -pix_fmt rgb24 -vcodec rawvideo -\n",
      "MoviePy - Building video .\\trimmed_video_water_1.mp4.\n",
      "MoviePy - Writing audio in trimmed_video_water_1TEMP_MPY_wvf_snd.mp4\n"
     ]
    },
    {
     "name": "stderr",
     "output_type": "stream",
     "text": [
      "                                                                    \r"
     ]
    },
    {
     "name": "stdout",
     "output_type": "stream",
     "text": [
      "MoviePy - Done.\n",
      "MoviePy - Writing video .\\trimmed_video_water_1.mp4\n",
      "\n"
     ]
    },
    {
     "name": "stderr",
     "output_type": "stream",
     "text": [
      "                                                                         \r"
     ]
    },
    {
     "name": "stdout",
     "output_type": "stream",
     "text": [
      "MoviePy - Done !\n",
      "MoviePy - video ready .\\trimmed_video_water_1.mp4\n",
      "Created .\\trimmed_video_water_1.mp4\n",
      "Proc not detected\n",
      "{'video_found': True, 'audio_found': True, 'metadata': {'major_brand': 'mp42', 'minor_version': '0', 'compatible_brands': 'isommp42', 'encoder': 'Google'}, 'inputs': [{'streams': [{'input_number': 0, 'stream_number': 0, 'stream_type': 'video', 'language': None, 'default': True, 'size': [640, 360], 'bitrate': 348, 'fps': 23.976023976023978, 'codec_name': 'h264', 'profile': '(Main)', 'metadata': {'Metadata': '', 'handler_name': 'ISO Media file produced by Google Inc.', 'vendor_id': '[0][0][0][0]'}}, {'input_number': 0, 'stream_number': 1, 'stream_type': 'audio', 'language': 'eng', 'default': True, 'fps': 44100, 'bitrate': 95, 'metadata': {'Metadata': '', 'handler_name': 'ISO Media file produced by Google Inc.', 'vendor_id': '[0][0][0][0]'}}], 'input_number': 0}], 'duration': 2588.82, 'bitrate': 446, 'start': 0.0, 'default_video_input_number': 0, 'default_video_stream_number': 0, 'video_codec_name': 'h264', 'video_profile': '(Main)', 'video_size': [640, 360], 'video_bitrate': 348, 'video_fps': 23.976023976023978, 'default_audio_input_number': 0, 'default_audio_stream_number': 1, 'audio_fps': 44100, 'audio_bitrate': 95, 'video_duration': 2588.82, 'video_n_frames': 62069}\n",
      "C:\\Users\\Akshat\\AppData\\Local\\Packages\\PythonSoftwareFoundation.Python.3.10_qbz5n2kfra8p0\\LocalCache\\local-packages\\Python310\\site-packages\\imageio_ffmpeg\\binaries\\ffmpeg-win-x86_64-v7.1.exe -ss 1113.240000 -i .\\source_video.mp4 -ss 1.000000 -loglevel error -f image2pipe -vf scale=640:360 -sws_flags bicubic -pix_fmt rgb24 -vcodec rawvideo -\n",
      "MoviePy - Building video .\\trimmed_video_water_2.mp4.\n",
      "MoviePy - Writing audio in trimmed_video_water_2TEMP_MPY_wvf_snd.mp4\n"
     ]
    },
    {
     "name": "stderr",
     "output_type": "stream",
     "text": [
      "                                                                   \r"
     ]
    },
    {
     "name": "stdout",
     "output_type": "stream",
     "text": [
      "MoviePy - Done.\n",
      "MoviePy - Writing video .\\trimmed_video_water_2.mp4\n",
      "\n"
     ]
    },
    {
     "name": "stderr",
     "output_type": "stream",
     "text": [
      "                                                                         \r"
     ]
    },
    {
     "name": "stdout",
     "output_type": "stream",
     "text": [
      "MoviePy - Done !\n",
      "MoviePy - video ready .\\trimmed_video_water_2.mp4\n",
      "Created .\\trimmed_video_water_2.mp4\n",
      "Proc not detected\n",
      "{'video_found': True, 'audio_found': True, 'metadata': {'major_brand': 'mp42', 'minor_version': '0', 'compatible_brands': 'isommp42', 'encoder': 'Google'}, 'inputs': [{'streams': [{'input_number': 0, 'stream_number': 0, 'stream_type': 'video', 'language': None, 'default': True, 'size': [640, 360], 'bitrate': 348, 'fps': 23.976023976023978, 'codec_name': 'h264', 'profile': '(Main)', 'metadata': {'Metadata': '', 'handler_name': 'ISO Media file produced by Google Inc.', 'vendor_id': '[0][0][0][0]'}}, {'input_number': 0, 'stream_number': 1, 'stream_type': 'audio', 'language': 'eng', 'default': True, 'fps': 44100, 'bitrate': 95, 'metadata': {'Metadata': '', 'handler_name': 'ISO Media file produced by Google Inc.', 'vendor_id': '[0][0][0][0]'}}], 'input_number': 0}], 'duration': 2588.82, 'bitrate': 446, 'start': 0.0, 'default_video_input_number': 0, 'default_video_stream_number': 0, 'video_codec_name': 'h264', 'video_profile': '(Main)', 'video_size': [640, 360], 'video_bitrate': 348, 'video_fps': 23.976023976023978, 'default_audio_input_number': 0, 'default_audio_stream_number': 1, 'audio_fps': 44100, 'audio_bitrate': 95, 'video_duration': 2588.82, 'video_n_frames': 62069}\n",
      "C:\\Users\\Akshat\\AppData\\Local\\Packages\\PythonSoftwareFoundation.Python.3.10_qbz5n2kfra8p0\\LocalCache\\local-packages\\Python310\\site-packages\\imageio_ffmpeg\\binaries\\ffmpeg-win-x86_64-v7.1.exe -ss 2500.000000 -i .\\source_video.mp4 -ss 1.000000 -loglevel error -f image2pipe -vf scale=640:360 -sws_flags bicubic -pix_fmt rgb24 -vcodec rawvideo -\n",
      "MoviePy - Building video .\\trimmed_video_babies_1.mp4.\n",
      "MoviePy - Writing audio in trimmed_video_babies_1TEMP_MPY_wvf_snd.mp4\n"
     ]
    },
    {
     "name": "stderr",
     "output_type": "stream",
     "text": [
      "                                                                    \r"
     ]
    },
    {
     "name": "stdout",
     "output_type": "stream",
     "text": [
      "MoviePy - Done.\n",
      "MoviePy - Writing video .\\trimmed_video_babies_1.mp4\n",
      "\n"
     ]
    },
    {
     "name": "stderr",
     "output_type": "stream",
     "text": [
      "                                                                         \r"
     ]
    },
    {
     "name": "stdout",
     "output_type": "stream",
     "text": [
      "MoviePy - Done !\n",
      "MoviePy - video ready .\\trimmed_video_babies_1.mp4\n",
      "Created .\\trimmed_video_babies_1.mp4\n",
      "Proc not detected\n",
      "{'video_found': True, 'audio_found': True, 'metadata': {'major_brand': 'mp42', 'minor_version': '0', 'compatible_brands': 'isommp42', 'encoder': 'Google'}, 'inputs': [{'streams': [{'input_number': 0, 'stream_number': 0, 'stream_type': 'video', 'language': None, 'default': True, 'size': [640, 360], 'bitrate': 348, 'fps': 23.976023976023978, 'codec_name': 'h264', 'profile': '(Main)', 'metadata': {'Metadata': '', 'handler_name': 'ISO Media file produced by Google Inc.', 'vendor_id': '[0][0][0][0]'}}, {'input_number': 0, 'stream_number': 1, 'stream_type': 'audio', 'language': 'eng', 'default': True, 'fps': 44100, 'bitrate': 95, 'metadata': {'Metadata': '', 'handler_name': 'ISO Media file produced by Google Inc.', 'vendor_id': '[0][0][0][0]'}}], 'input_number': 0}], 'duration': 2588.82, 'bitrate': 446, 'start': 0.0, 'default_video_input_number': 0, 'default_video_stream_number': 0, 'video_codec_name': 'h264', 'video_profile': '(Main)', 'video_size': [640, 360], 'video_bitrate': 348, 'video_fps': 23.976023976023978, 'default_audio_input_number': 0, 'default_audio_stream_number': 1, 'audio_fps': 44100, 'audio_bitrate': 95, 'video_duration': 2588.82, 'video_n_frames': 62069}\n",
      "C:\\Users\\Akshat\\AppData\\Local\\Packages\\PythonSoftwareFoundation.Python.3.10_qbz5n2kfra8p0\\LocalCache\\local-packages\\Python310\\site-packages\\imageio_ffmpeg\\binaries\\ffmpeg-win-x86_64-v7.1.exe -ss 1768.880000 -i .\\source_video.mp4 -ss 1.000000 -loglevel error -f image2pipe -vf scale=640:360 -sws_flags bicubic -pix_fmt rgb24 -vcodec rawvideo -\n",
      "MoviePy - Building video .\\trimmed_video_story_1.mp4.\n",
      "MoviePy - Writing audio in trimmed_video_story_1TEMP_MPY_wvf_snd.mp4\n"
     ]
    },
    {
     "name": "stderr",
     "output_type": "stream",
     "text": [
      "                                                                   \r"
     ]
    },
    {
     "name": "stdout",
     "output_type": "stream",
     "text": [
      "MoviePy - Done.\n",
      "MoviePy - Writing video .\\trimmed_video_story_1.mp4\n",
      "\n"
     ]
    },
    {
     "name": "stderr",
     "output_type": "stream",
     "text": [
      "                                                                         \r"
     ]
    },
    {
     "name": "stdout",
     "output_type": "stream",
     "text": [
      "MoviePy - Done !\n",
      "MoviePy - video ready .\\trimmed_video_story_1.mp4\n",
      "Created .\\trimmed_video_story_1.mp4\n",
      "Proc not detected\n",
      "{'video_found': True, 'audio_found': True, 'metadata': {'major_brand': 'mp42', 'minor_version': '0', 'compatible_brands': 'isommp42', 'encoder': 'Google'}, 'inputs': [{'streams': [{'input_number': 0, 'stream_number': 0, 'stream_type': 'video', 'language': None, 'default': True, 'size': [640, 360], 'bitrate': 348, 'fps': 23.976023976023978, 'codec_name': 'h264', 'profile': '(Main)', 'metadata': {'Metadata': '', 'handler_name': 'ISO Media file produced by Google Inc.', 'vendor_id': '[0][0][0][0]'}}, {'input_number': 0, 'stream_number': 1, 'stream_type': 'audio', 'language': 'eng', 'default': True, 'fps': 44100, 'bitrate': 95, 'metadata': {'Metadata': '', 'handler_name': 'ISO Media file produced by Google Inc.', 'vendor_id': '[0][0][0][0]'}}], 'input_number': 0}], 'duration': 2588.82, 'bitrate': 446, 'start': 0.0, 'default_video_input_number': 0, 'default_video_stream_number': 0, 'video_codec_name': 'h264', 'video_profile': '(Main)', 'video_size': [640, 360], 'video_bitrate': 348, 'video_fps': 23.976023976023978, 'default_audio_input_number': 0, 'default_audio_stream_number': 1, 'audio_fps': 44100, 'audio_bitrate': 95, 'video_duration': 2588.82, 'video_n_frames': 62069}\n",
      "C:\\Users\\Akshat\\AppData\\Local\\Packages\\PythonSoftwareFoundation.Python.3.10_qbz5n2kfra8p0\\LocalCache\\local-packages\\Python310\\site-packages\\imageio_ffmpeg\\binaries\\ffmpeg-win-x86_64-v7.1.exe -ss 654.279000 -i .\\source_video.mp4 -ss 1.000000 -loglevel error -f image2pipe -vf scale=640:360 -sws_flags bicubic -pix_fmt rgb24 -vcodec rawvideo -\n",
      "MoviePy - Building video .\\trimmed_video_birthday_1.mp4.\n",
      "MoviePy - Writing audio in trimmed_video_birthday_1TEMP_MPY_wvf_snd.mp4\n"
     ]
    },
    {
     "name": "stderr",
     "output_type": "stream",
     "text": [
      "                                                                    \r"
     ]
    },
    {
     "name": "stdout",
     "output_type": "stream",
     "text": [
      "MoviePy - Done.\n",
      "MoviePy - Writing video .\\trimmed_video_birthday_1.mp4\n",
      "\n"
     ]
    },
    {
     "name": "stderr",
     "output_type": "stream",
     "text": [
      "                                                                         \r"
     ]
    },
    {
     "name": "stdout",
     "output_type": "stream",
     "text": [
      "MoviePy - Done !\n",
      "MoviePy - video ready .\\trimmed_video_birthday_1.mp4\n",
      "Created .\\trimmed_video_birthday_1.mp4\n",
      "Proc not detected\n",
      "{'video_found': True, 'audio_found': True, 'metadata': {'major_brand': 'mp42', 'minor_version': '0', 'compatible_brands': 'isommp42', 'encoder': 'Google'}, 'inputs': [{'streams': [{'input_number': 0, 'stream_number': 0, 'stream_type': 'video', 'language': None, 'default': True, 'size': [640, 360], 'bitrate': 348, 'fps': 23.976023976023978, 'codec_name': 'h264', 'profile': '(Main)', 'metadata': {'Metadata': '', 'handler_name': 'ISO Media file produced by Google Inc.', 'vendor_id': '[0][0][0][0]'}}, {'input_number': 0, 'stream_number': 1, 'stream_type': 'audio', 'language': 'eng', 'default': True, 'fps': 44100, 'bitrate': 95, 'metadata': {'Metadata': '', 'handler_name': 'ISO Media file produced by Google Inc.', 'vendor_id': '[0][0][0][0]'}}], 'input_number': 0}], 'duration': 2588.82, 'bitrate': 446, 'start': 0.0, 'default_video_input_number': 0, 'default_video_stream_number': 0, 'video_codec_name': 'h264', 'video_profile': '(Main)', 'video_size': [640, 360], 'video_bitrate': 348, 'video_fps': 23.976023976023978, 'default_audio_input_number': 0, 'default_audio_stream_number': 1, 'audio_fps': 44100, 'audio_bitrate': 95, 'video_duration': 2588.82, 'video_n_frames': 62069}\n",
      "C:\\Users\\Akshat\\AppData\\Local\\Packages\\PythonSoftwareFoundation.Python.3.10_qbz5n2kfra8p0\\LocalCache\\local-packages\\Python310\\site-packages\\imageio_ffmpeg\\binaries\\ffmpeg-win-x86_64-v7.1.exe -ss 1170.280000 -i .\\source_video.mp4 -ss 1.000000 -loglevel error -f image2pipe -vf scale=640:360 -sws_flags bicubic -pix_fmt rgb24 -vcodec rawvideo -\n",
      "MoviePy - Building video .\\trimmed_video_birthday_2.mp4.\n",
      "MoviePy - Writing audio in trimmed_video_birthday_2TEMP_MPY_wvf_snd.mp4\n"
     ]
    },
    {
     "name": "stderr",
     "output_type": "stream",
     "text": [
      "                                                                   \r"
     ]
    },
    {
     "name": "stdout",
     "output_type": "stream",
     "text": [
      "MoviePy - Done.\n",
      "MoviePy - Writing video .\\trimmed_video_birthday_2.mp4\n",
      "\n"
     ]
    },
    {
     "name": "stderr",
     "output_type": "stream",
     "text": [
      "                                                                         \r"
     ]
    },
    {
     "name": "stdout",
     "output_type": "stream",
     "text": [
      "MoviePy - Done !\n",
      "MoviePy - video ready .\\trimmed_video_birthday_2.mp4\n",
      "Created .\\trimmed_video_birthday_2.mp4\n",
      "Proc not detected\n",
      "{'video_found': True, 'audio_found': True, 'metadata': {'major_brand': 'mp42', 'minor_version': '0', 'compatible_brands': 'isommp42', 'encoder': 'Google'}, 'inputs': [{'streams': [{'input_number': 0, 'stream_number': 0, 'stream_type': 'video', 'language': None, 'default': True, 'size': [640, 360], 'bitrate': 348, 'fps': 23.976023976023978, 'codec_name': 'h264', 'profile': '(Main)', 'metadata': {'Metadata': '', 'handler_name': 'ISO Media file produced by Google Inc.', 'vendor_id': '[0][0][0][0]'}}, {'input_number': 0, 'stream_number': 1, 'stream_type': 'audio', 'language': 'eng', 'default': True, 'fps': 44100, 'bitrate': 95, 'metadata': {'Metadata': '', 'handler_name': 'ISO Media file produced by Google Inc.', 'vendor_id': '[0][0][0][0]'}}], 'input_number': 0}], 'duration': 2588.82, 'bitrate': 446, 'start': 0.0, 'default_video_input_number': 0, 'default_video_stream_number': 0, 'video_codec_name': 'h264', 'video_profile': '(Main)', 'video_size': [640, 360], 'video_bitrate': 348, 'video_fps': 23.976023976023978, 'default_audio_input_number': 0, 'default_audio_stream_number': 1, 'audio_fps': 44100, 'audio_bitrate': 95, 'video_duration': 2588.82, 'video_n_frames': 62069}\n",
      "C:\\Users\\Akshat\\AppData\\Local\\Packages\\PythonSoftwareFoundation.Python.3.10_qbz5n2kfra8p0\\LocalCache\\local-packages\\Python310\\site-packages\\imageio_ffmpeg\\binaries\\ffmpeg-win-x86_64-v7.1.exe -ss 2526.760000 -i .\\source_video.mp4 -ss 1.000000 -loglevel error -f image2pipe -vf scale=640:360 -sws_flags bicubic -pix_fmt rgb24 -vcodec rawvideo -\n",
      "MoviePy - Building video .\\trimmed_video_birthday_3.mp4.\n",
      "MoviePy - Writing audio in trimmed_video_birthday_3TEMP_MPY_wvf_snd.mp4\n"
     ]
    },
    {
     "name": "stderr",
     "output_type": "stream",
     "text": [
      "                                                                    \r"
     ]
    },
    {
     "name": "stdout",
     "output_type": "stream",
     "text": [
      "MoviePy - Done.\n",
      "MoviePy - Writing video .\\trimmed_video_birthday_3.mp4\n",
      "\n"
     ]
    },
    {
     "name": "stderr",
     "output_type": "stream",
     "text": [
      "                                                                         \r"
     ]
    },
    {
     "name": "stdout",
     "output_type": "stream",
     "text": [
      "MoviePy - Done !\n",
      "MoviePy - video ready .\\trimmed_video_birthday_3.mp4\n",
      "Created .\\trimmed_video_birthday_3.mp4\n",
      "Proc not detected\n",
      "{'video_found': True, 'audio_found': True, 'metadata': {'major_brand': 'mp42', 'minor_version': '0', 'compatible_brands': 'isommp42', 'encoder': 'Google'}, 'inputs': [{'streams': [{'input_number': 0, 'stream_number': 0, 'stream_type': 'video', 'language': None, 'default': True, 'size': [640, 360], 'bitrate': 348, 'fps': 23.976023976023978, 'codec_name': 'h264', 'profile': '(Main)', 'metadata': {'Metadata': '', 'handler_name': 'ISO Media file produced by Google Inc.', 'vendor_id': '[0][0][0][0]'}}, {'input_number': 0, 'stream_number': 1, 'stream_type': 'audio', 'language': 'eng', 'default': True, 'fps': 44100, 'bitrate': 95, 'metadata': {'Metadata': '', 'handler_name': 'ISO Media file produced by Google Inc.', 'vendor_id': '[0][0][0][0]'}}], 'input_number': 0}], 'duration': 2588.82, 'bitrate': 446, 'start': 0.0, 'default_video_input_number': 0, 'default_video_stream_number': 0, 'video_codec_name': 'h264', 'video_profile': '(Main)', 'video_size': [640, 360], 'video_bitrate': 348, 'video_fps': 23.976023976023978, 'default_audio_input_number': 0, 'default_audio_stream_number': 1, 'audio_fps': 44100, 'audio_bitrate': 95, 'video_duration': 2588.82, 'video_n_frames': 62069}\n",
      "C:\\Users\\Akshat\\AppData\\Local\\Packages\\PythonSoftwareFoundation.Python.3.10_qbz5n2kfra8p0\\LocalCache\\local-packages\\Python310\\site-packages\\imageio_ffmpeg\\binaries\\ffmpeg-win-x86_64-v7.1.exe -ss 571.079000 -i .\\source_video.mp4 -ss 1.000000 -loglevel error -f image2pipe -vf scale=640:360 -sws_flags bicubic -pix_fmt rgb24 -vcodec rawvideo -\n",
      "MoviePy - Building video .\\trimmed_video_molecular_1.mp4.\n",
      "MoviePy - Writing audio in trimmed_video_molecular_1TEMP_MPY_wvf_snd.mp4\n"
     ]
    },
    {
     "name": "stderr",
     "output_type": "stream",
     "text": [
      "                                                                   \r"
     ]
    },
    {
     "name": "stdout",
     "output_type": "stream",
     "text": [
      "MoviePy - Done.\n",
      "MoviePy - Writing video .\\trimmed_video_molecular_1.mp4\n",
      "\n"
     ]
    },
    {
     "name": "stderr",
     "output_type": "stream",
     "text": [
      "                                                                         \r"
     ]
    },
    {
     "name": "stdout",
     "output_type": "stream",
     "text": [
      "MoviePy - Done !\n",
      "MoviePy - video ready .\\trimmed_video_molecular_1.mp4\n",
      "Created .\\trimmed_video_molecular_1.mp4\n",
      "Removed temporary source file: .\\source_video.mp4\n"
     ]
    }
   ],
   "source": [
    "youtube_url = 'https://www.youtube.com/watch?v=dLuQ1wSJACU'\n",
    "output_directory = '.'\n",
    "\n",
    "# Download the source video once\n",
    "source_video_path = download_youtube_video(youtube_url, output_directory)\n",
    "\n",
    "if source_video_path:\n",
    "    create_trimmed_videos(source_video_path, adjusted_timestamps, output_directory)\n",
    "    \n",
    "    os.remove(source_video_path)\n",
    "    print(f\"Removed temporary source file: {source_video_path}\")"
   ]
  }
 ],
 "metadata": {
  "kernelspec": {
   "display_name": "Python 3",
   "language": "python",
   "name": "python3"
  },
  "language_info": {
   "codemirror_mode": {
    "name": "ipython",
    "version": 3
   },
   "file_extension": ".py",
   "mimetype": "text/x-python",
   "name": "python",
   "nbconvert_exporter": "python",
   "pygments_lexer": "ipython3",
   "version": "3.10.11"
  }
 },
 "nbformat": 4,
 "nbformat_minor": 2
}
